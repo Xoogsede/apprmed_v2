{
 "cells": [
  {
   "cell_type": "code",
   "execution_count": null,
   "metadata": {},
   "outputs": [],
   "source": [
    "import numpy as np\n",
    "import matplotlib.pyplot as plt"
   ]
  },
  {
   "cell_type": "code",
   "execution_count": null,
   "metadata": {},
   "outputs": [],
   "source": [
    "rnd = np.random\n",
    "rnd.seed(0)"
   ]
  },
  {
   "cell_type": "code",
   "execution_count": null,
   "metadata": {},
   "outputs": [],
   "source": [
    "p = 2 # nombre d'H\n",
    "m = 3 # nombre de m'ambulance (VABSAN)\n",
    "n = 6 # nombre de P\n",
    "\n",
    "H = [i for i in range(0,p)] # liste des hopitaux\n",
    "K = [i for i in range(p,p+m)] # liste des ambulances\n",
    "P = [i for i in range(p+m,p+m+n)] # liste des patients\n",
    "N = H + K + P\n",
    "\n",
    "Q = 4 # capacité homogène des ambulances\n",
    "q = {i:1 for i in P}\n",
    "ch = [4, 4] # capacité des hopitaux"
   ]
  },
  {
   "cell_type": "code",
   "execution_count": null,
   "metadata": {},
   "outputs": [],
   "source": [
    "# proportion P [alpha, bravo, charlie]\n",
    "proportion = [0.2, 0.4, 0.4] # proportion des code de P\n",
    "liste = [\"R\", \"Y\", \"G\"] # code des P Red, Yellow and Green\n",
    "dist = np.random.choice(liste, n, proportion) # repartition des codes P\n",
    "\n",
    "codeP = {P[i]:dist[i] for i in range(0,n)} # liste des P avec leur code initial\n",
    "xc_i = {} # état du patient i (0 assis, 1 couché)\n",
    "l_i = {} # temps limite d'évacuation du patient i vers un hôpital\n",
    "s_i = {} # temps de prise en charge du patient i\n",
    "\n",
    "j=0\n",
    "for i in dist :\n",
    "    if i == \"R\":\n",
    "        xc_i.update({P[j]:1})\n",
    "        l_i.update({P[j]:90})\n",
    "        s_i.update({P[j]:10})\n",
    "        j+=1\n",
    "    elif i == \"Y\":\n",
    "        xc_i.update({P[j]:1})\n",
    "        l_i.update({P[j]:240})\n",
    "        s_i.update({P[j]:10})\n",
    "        j+=1\n",
    "    else:\n",
    "        xc_i.update({P[j]:rnd.randint(0,2)})\n",
    "        l_i.update({P[j]:1440})\n",
    "        s_i.update({P[j]:5})\n",
    "        j+=1\n"
   ]
  },
  {
   "cell_type": "code",
   "execution_count": null,
   "metadata": {},
   "outputs": [],
   "source": [
    "loc_x = rnd.rand(len(N))*20\n",
    "loc_y = rnd.rand(len(N))*10\n",
    "# loc_x[p]=loc_x[0]\n",
    "# loc_x[p+1]=loc_x[0]\n",
    "# loc_x[p+2]=loc_x[1]\n",
    "# loc_y[p]=loc_y[0]\n",
    "# loc_y[p+1]=loc_y[0]\n",
    "# loc_y[p+2]=loc_y[1]"
   ]
  },
  {
   "cell_type": "code",
   "execution_count": null,
   "metadata": {},
   "outputs": [],
   "source": [
    "plt.scatter(loc_x[0:p], loc_y[0:p], c='r', marker='s')\n",
    "for i in H:\n",
    "    plt.annotate('$h_%d=%d$' % (i+1, ch[i]), (loc_x[i], loc_y[i]-5))\n",
    "    \n",
    "for i in K:\n",
    "    plt.plot(loc_x[i], loc_y[i], c='b', marker='x')\n",
    "    plt.annotate('$a_{0!s} = {1!s}$'.format(i-(p-1), Q), (loc_x[i], loc_y[i]+i*i))\n",
    "\n",
    "\n",
    "for i in P:\n",
    "    plt.plot(loc_x[i], loc_y[i], c='k', marker='o')\n",
    "    plt.annotate('p_{0!s}={1!s}'.format(i-p-1, xc_i[i]), (loc_x[i]-3, loc_y[i]-5))\n",
    "plt.axis('equal')"
   ]
  },
  {
   "cell_type": "code",
   "execution_count": null,
   "metadata": {},
   "outputs": [],
   "source": [
    "capacite ={}\n",
    "for h in H:\n",
    "    capacite.update({h:6})\n",
    "for k in K:\n",
    "    capacite.update({k:4})"
   ]
  },
  {
   "cell_type": "code",
   "execution_count": null,
   "metadata": {},
   "outputs": [],
   "source": [
    "KxP = [(i,j) for i in K for j in P]\n",
    "PxP = [(i,j) for i in P for j in P]\n",
    "PxH = [(i,j) for i in P for j in H]"
   ]
  },
  {
   "cell_type": "code",
   "execution_count": null,
   "metadata": {},
   "outputs": [],
   "source": [
    "print(KxP)"
   ]
  },
  {
   "cell_type": "code",
   "execution_count": null,
   "metadata": {},
   "outputs": [],
   "source": [
    "A = KxP+PxP+PxH\n",
    "tij={(i,j):np.hypot(loc_x[i]-loc_x[j], loc_y[i]-loc_y[j])*5 for i in N for j in N}"
   ]
  },
  {
   "cell_type": "code",
   "execution_count": null,
   "metadata": {},
   "outputs": [],
   "source": [
    "print(A)\n",
    "print(len(tij))"
   ]
  },
  {
   "cell_type": "code",
   "execution_count": null,
   "metadata": {},
   "outputs": [],
   "source": [
    "from docplex.mp.model import Model"
   ]
  },
  {
   "cell_type": "code",
   "execution_count": null,
   "metadata": {},
   "outputs": [],
   "source": [
    "m = Model('VABSAN')"
   ]
  },
  {
   "cell_type": "code",
   "execution_count": null,
   "metadata": {},
   "outputs": [],
   "source": [
    "PUK = P + K\n",
    "PUH = H + P\n",
    "HUK = K + H"
   ]
  },
  {
   "cell_type": "code",
   "execution_count": null,
   "metadata": {},
   "outputs": [],
   "source": [
    "print(PUK)\n",
    "print([i for i in PUK])"
   ]
  },
  {
   "cell_type": "code",
   "execution_count": null,
   "metadata": {},
   "outputs": [],
   "source": [
    "x = m.binary_var_cube(PUK, N, K, name='x')\n",
    "d_k = m.continuous_var_dict(K, lb=0, ub=1440,  name = 'temps_service')\n",
    "y = m.binary_var_cube(P,H,K, name = 'patient_ambulance_hopital')\n",
    "u = m.integer_var_dict(P, ub=Q, name='u')"
   ]
  },
  {
   "cell_type": "code",
   "execution_count": null,
   "metadata": {},
   "outputs": [],
   "source": [
    "#----- Objective Function -----\n",
    "#Minimize the total cost\n",
    "function1 = m.sum(x[i,j,k] for j in P for i in PUK for k in K)\n",
    "function2 = m.sum(tij[(i,j)]*x[i,j,k] for j in N for i in PUK for k in K)\n",
    "function3 = m.sum(x[i,j,k]/(l_i[j]-s_i[j])  for j in P for i in PUK for k in K)\n",
    "\n",
    "\n",
    "sense=\"min\"\n",
    "exprs=[-function1,function2,-function3]\n",
    "priorities=[1,3,2]\n",
    "weights=[1,1,1]\n",
    "m.set_multi_objective(sense, exprs, priorities, weights, abstols=None, reltols=None, names=None)\n"
   ]
  },
  {
   "cell_type": "code",
   "execution_count": null,
   "metadata": {},
   "outputs": [],
   "source": [
    "m.cts_1 = []\n",
    "for k in K: \n",
    "    ct_1 = m.sum(\n",
    "        x[i,j,k] for i in K if i != k for j in P)== 0\n",
    "    ct_1.name = 'contrainte_ambulance_{0!s}'.format(k)\n",
    "    m.cts_1.append(ct_1)\n",
    "\n",
    "m.add_constraints(m.cts_1)\n",
    "\n",
    "# print('cts_1=', m.cts_1)"
   ]
  },
  {
   "cell_type": "code",
   "execution_count": null,
   "metadata": {},
   "outputs": [],
   "source": [
    "m.cts_2 = []\n",
    "for i in P : \n",
    "    ct_2= m.sum(\n",
    "        x[i,j,k] for j in PUH for k in K) <= 1\n",
    "    ct_2.name = 'contrainte_patient_{0!s}'.format(i)\n",
    "    m.cts_2.append(ct_2)\n",
    "\n",
    "m.add_constraints(m.cts_2)\n",
    "\n",
    "# print('cts_2=', m.cts_2)"
   ]
  },
  {
   "cell_type": "code",
   "execution_count": null,
   "metadata": {},
   "outputs": [],
   "source": [
    "m.cts_3 = []\n",
    "for j in P : \n",
    "    ct_3= m.sum(\n",
    "        x[i,j,k] for i in PUK for k in K) <= 1\n",
    "    ct_3.name = 'contrainte_patient_2_{0!s}'.format(j)\n",
    "    m.cts_3.append(ct_3)\n",
    "\n",
    "m.add_constraints(m.cts_3)\n",
    "\n",
    "# print('cts_3=', m.cts_3)"
   ]
  },
  {
   "cell_type": "code",
   "execution_count": null,
   "metadata": {},
   "outputs": [],
   "source": [
    "m.cts_4 = []\n",
    "for j in P:\n",
    "    for k in K:\n",
    "        ct_4 = (m.sum(x[i,j,k] for i in PUK) - \n",
    "            m.sum(x[j,i,k] for i in PUH) == 0)\n",
    "        ct_4.name = 'flow_constraint_{0!s}_{1!s}'.format(j,k)\n",
    "        m.cts_4.append(ct_4)\n",
    "\n",
    "m.add_constraints(m.cts_4)\n",
    "\n",
    "# print('cts_4=', m.cts_4)"
   ]
  },
  {
   "cell_type": "code",
   "execution_count": null,
   "metadata": {},
   "outputs": [],
   "source": [
    "m.cts_6 = []\n",
    "for k in K:\n",
    "    for z in P:\n",
    "        ct_6 = ((d_k[k] + m.sum(tij[(i,j)]*x[i,j,k] for i in PUK for j in N if i!=j) +\n",
    "                m.sum(x[i,j,k]*s_i[j] for i in PUK for j in P)) <= l_i[z])\n",
    "        ct_6.name = 'constraint_temps_{0!s}_{1!s}'.format(k,z)\n",
    "        m.cts_6.append(ct_6)\n",
    "\n",
    "m.add_constraints(m.cts_6)\n"
   ]
  },
  {
   "cell_type": "code",
   "execution_count": null,
   "metadata": {},
   "outputs": [],
   "source": [
    "m.cts_7 = []\n",
    "for k in K : \n",
    "    ct_7= m.sum(\n",
    "        x[i,j,k] for i in PUK for j in P) <= capacite[k]\n",
    "    ct_7.name = 'contrainte_capacite_ambulance{0!s}'.format(k)\n",
    "    m.cts_7.append(ct_7)\n",
    "\n",
    "m.add_constraints(m.cts_7)\n",
    "\n",
    "m.add_indicator_constraints(m.indicator_constraint(x[i,j,k], u[i]+q[i]==u[j]) \n",
    "                                            for i, j in A if i in P and j in P for k in K)\n",
    "\n",
    "m.add_constraints(u[i]>=q[i]+xc_i[i] for i in P)\n",
    "\n",
    "# print('cts_7=', m.cts_7)"
   ]
  },
  {
   "cell_type": "code",
   "execution_count": null,
   "metadata": {},
   "outputs": [],
   "source": [
    "m.cts_8 = []\n",
    "for k in K : \n",
    "    for i in K :\n",
    "        ct_8= m.sum(x[i,j,k] for j in P) <= 1\n",
    "        ct_8.name = 'contrainte_prise_en_charge_{0!s}_{1!s}'.format(k,i)\n",
    "        m.cts_8.append(ct_8)\n",
    "\n",
    "m.add_constraints(m.cts_8)\n",
    "\n",
    "print('cts_8=', m.cts_8)"
   ]
  },
  {
   "cell_type": "code",
   "execution_count": null,
   "metadata": {},
   "outputs": [],
   "source": [
    "# for i in P:\n",
    "#     for h in H : \n",
    "#         for k in K:\n",
    "#             # ct_9 = \n",
    "#             y[i,h,k] = m.min(\n",
    "#                 m.sum(x[i,j,k] for j in PUH),\n",
    "#                 m.sum(x[j,h,k] for j in P))\n",
    "m.add_indicator_constraints(m.indicator_constraint(x[i,j,k], y[i,h,k] == m.min(\n",
    "                m.sum(x[i,j,k] for j in PUH),\n",
    "                m.sum(x[j,h,k] for j in P))) \n",
    "                                            for i in P for h in H for k in K)\n",
    "\n",
    "       "
   ]
  },
  {
   "cell_type": "code",
   "execution_count": null,
   "metadata": {},
   "outputs": [],
   "source": [
    "m.cts_10 = []\n",
    "for h in H : \n",
    "    ct_10 = m.sum(y[i,h,k] for k in K for i in P) <= capacite[h]\n",
    "    ct_10.name = 'contrainte_capacite_H{0!s}'.format(h)\n",
    "    m.cts_10.append(ct_10)\n",
    "\n",
    "m.add_constraints(m.cts_10)"
   ]
  },
  {
   "cell_type": "code",
   "execution_count": null,
   "metadata": {},
   "outputs": [],
   "source": [
    "m.cts_11 = []\n",
    "for i in P: \n",
    "    ct_11 = m.sum(\n",
    "        x[i,j,k] for j in P if i == j )== 0\n",
    "    ct_11.name = 'contrainte_patient_patient_{0!s}'.format(k)\n",
    "    m.cts_11.append(ct_11)\n",
    "\n",
    "m.add_constraints(m.cts_11)\n",
    "\n",
    "# print('cts_1=', m.cts_1)"
   ]
  },
  {
   "cell_type": "code",
   "execution_count": null,
   "metadata": {},
   "outputs": [],
   "source": [
    "sol = m.solve(log_output = True)\n",
    "print(sol)"
   ]
  },
  {
   "cell_type": "code",
   "execution_count": null,
   "metadata": {},
   "outputs": [],
   "source": [
    "active_arcs = []\n",
    "for k in K:\n",
    "    for i,j in A:\n",
    "        if x[i,j,k].solution_value >0.9:\n",
    "            active_arcs.append([x[i,j,k]])\n"
   ]
  },
  {
   "cell_type": "code",
   "execution_count": null,
   "metadata": {},
   "outputs": [],
   "source": [
    "active_arcs"
   ]
  },
  {
   "cell_type": "code",
   "execution_count": null,
   "metadata": {},
   "outputs": [],
   "source": [
    "plt.scatter(loc_x[0:p], loc_y[0:p], c='r', marker='s')\n",
    "for i in H:\n",
    "    plt.annotate('$h_%d=%d$' % (i+1, ch[i]), (loc_x[i], loc_y[i]-5))\n",
    "    \n",
    "for i in K:\n",
    "    plt.plot(loc_x[i], loc_y[i], c='b', marker='x')\n",
    "    plt.annotate('$a_{0!s} = {1!s}$'.format(i-(p-1), Q), (loc_x[i], loc_y[i]+i*i))\n",
    "\n",
    "\n",
    "for i in P:\n",
    "    plt.plot(loc_x[i], loc_y[i], c='k', marker='o')\n",
    "    plt.annotate('p_{0!s}={1!s}'.format(i-p-1, xc_i[i]), (loc_x[i]-3, loc_y[i]-5))\n",
    "plt.axis('equal')"
   ]
  }
 ],
 "metadata": {
  "kernelspec": {
   "display_name": "Python 3.10.4 ('apprmedenv')",
   "language": "python",
   "name": "python3"
  },
  "language_info": {
   "codemirror_mode": {
    "name": "ipython",
    "version": 3
   },
   "file_extension": ".py",
   "mimetype": "text/x-python",
   "name": "python",
   "nbconvert_exporter": "python",
   "pygments_lexer": "ipython3",
   "version": "3.10.4"
  },
  "orig_nbformat": 4,
  "vscode": {
   "interpreter": {
    "hash": "3424ae1f11f525a703eae874a2c50cfd786682d231509eae606336d5c188896a"
   }
  }
 },
 "nbformat": 4,
 "nbformat_minor": 2
}
